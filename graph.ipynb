{
 "cells": [
  {
   "cell_type": "code",
   "execution_count": 12,
   "metadata": {},
   "outputs": [],
   "source": [
    "import networkx as nx\n",
    "\n",
    "from pathlib import Path\n",
    "\n",
    "from hloc import extract_features, match_features\n",
    "from hloc import pairs_from_retrieval, localize_sfm, visualization\n",
    "from hloc.utils import viz_3d\n",
    "import pycolmap\n",
    "import numpy as np"
   ]
  },
  {
   "cell_type": "code",
   "execution_count": 13,
   "metadata": {},
   "outputs": [],
   "source": [
    "# Setup the paths\n",
    "base_dir = Path('/cluster/project/infk/courses/252-0579-00L/group07')\n",
    "\n",
    "images = base_dir / 'datasets' / 'images'\n",
    "models = base_dir / 'outputs' / 'models-features'\n",
    "merge = base_dir / 'outputs' / 'test' / 'merge'\n",
    "outputs = base_dir / 'outputs' / 'test' / 'graph'\n",
    "\n",
    "outputs.mkdir(exist_ok=True, parents=True)\n"
   ]
  },
  {
   "cell_type": "code",
   "execution_count": 14,
   "metadata": {},
   "outputs": [],
   "source": [
    "def model_path_2_name(model_path:str):\n",
    "    return str(model_path).replace(\"/\",\"__\")\n",
    "\n",
    "\n",
    "def model_name_2_path(model_path):\n",
    "    return Path(str(model_path).replace(\"__\",\"/\"))\n",
    "    # Recursively search for all models\n",
    "    "
   ]
  },
  {
   "cell_type": "code",
   "execution_count": 15,
   "metadata": {},
   "outputs": [],
   "source": [
    "model_folders = [p.parent for p in Path(models).glob(\"**/images.bin\")]\n",
    "\n",
    "remove_folders = []\n",
    "for model_folder in model_folders:\n",
    "    \n",
    "    # If we have reconstructions in the PATH/models/[0-9] folders\n",
    "    # Then we should remove the reconstruction in PATH, as this reconstruction\n",
    "    # is the same as one of the ones in PATH/models/[0-9]\n",
    "    if model_folder.name.isdigit():    \n",
    "        rem_folder = model_folder.relative_to(models)\n",
    "        remove_folders.append(rem_folder)\n",
    "\n",
    "# Make the model_folder paths relative to models_dir and remove redundant folders\n",
    "model_folders = [model_folder.relative_to(models) for model_folder in model_folders if model_folder not in remove_folders]\n"
   ]
  },
  {
   "cell_type": "code",
   "execution_count": 16,
   "metadata": {},
   "outputs": [
    {
     "data": {
      "text/plain": [
       "['2obsKLoZQdU__part0',\n",
       " '2obsKLoZQdU__part10',\n",
       " '2obsKLoZQdU__part11',\n",
       " '2obsKLoZQdU__part12',\n",
       " '2obsKLoZQdU__part13',\n",
       " '2obsKLoZQdU__part14',\n",
       " '2obsKLoZQdU__part15',\n",
       " '2obsKLoZQdU__part16',\n",
       " '2obsKLoZQdU__part17',\n",
       " '2obsKLoZQdU__part18',\n",
       " '2obsKLoZQdU__part19',\n",
       " '2obsKLoZQdU__part19',\n",
       " '2obsKLoZQdU__part1',\n",
       " '2obsKLoZQdU__part20',\n",
       " '2obsKLoZQdU__part21',\n",
       " '2obsKLoZQdU__part21',\n",
       " '2obsKLoZQdU__part21',\n",
       " '2obsKLoZQdU__part22',\n",
       " '2obsKLoZQdU__part23',\n",
       " '2obsKLoZQdU__part24',\n",
       " '2obsKLoZQdU__part25',\n",
       " '2obsKLoZQdU__part26',\n",
       " '2obsKLoZQdU__part27',\n",
       " '2obsKLoZQdU__part28',\n",
       " '2obsKLoZQdU__part2',\n",
       " '2obsKLoZQdU__part3',\n",
       " '2obsKLoZQdU__part4',\n",
       " '2obsKLoZQdU__part5',\n",
       " '2obsKLoZQdU__part6',\n",
       " '2obsKLoZQdU__part7',\n",
       " '2obsKLoZQdU__part8',\n",
       " '2obsKLoZQdU__part9']"
      ]
     },
     "execution_count": 16,
     "metadata": {},
     "output_type": "execute_result"
    }
   ],
   "source": [
    "model_folders\n",
    "\n",
    "model_names = [\"__\".join(model_f.parts[:2]) for model_f in model_folders]\n",
    "model_names"
   ]
  },
  {
   "cell_type": "code",
   "execution_count": 17,
   "metadata": {},
   "outputs": [
    {
     "data": {
      "text/plain": [
       "[(('2obsKLoZQdU__part17', '2obsKLoZQdU__part18'),\n",
       "  SimilarityTransform3:\n",
       "    0.923998  -0.115715  -0.458583   0.593712\n",
       "   0.0802179    1.03022 -0.0983259    1.16875\n",
       "    0.466104  0.0520867    0.92601    10.7944\n",
       "           0          0          0          1),\n",
       " (('2obsKLoZQdU__part16', '2obsKLoZQdU__part17'),\n",
       "  SimilarityTransform3:\n",
       "    -0.94779  0.0493964   0.333525    3.91196\n",
       "  0.00696485   0.997776  -0.127982  -0.291615\n",
       "   -0.337091  -0.118271  -0.940408    3.24701\n",
       "           0          0          0          1),\n",
       " (('2obsKLoZQdU__part15', '2obsKLoZQdU__part16'),\n",
       "  SimilarityTransform3:\n",
       "      1.10376   -0.185649 -0.00140714    0.876636\n",
       "     0.183594     1.09274   -0.158026   -0.525097\n",
       "    0.0275851    0.155606     1.10805     3.02284\n",
       "            0           0           0           1)]"
      ]
     },
     "execution_count": 17,
     "metadata": {},
     "output_type": "execute_result"
    }
   ],
   "source": [
    "model_transforms = [p for p in Path(merge).glob(\"**/trans_*\")]\n",
    "# model_transform_names = [p.name for p in model_transforms]\n",
    "\n",
    "def load_transform(tf_path):\n",
    "    with open(tf_path, \"r\") as f:\n",
    "        tf = pycolmap.SimilarityTransform3(np.loadtxt(f,delimiter=\",\")).inverse()\n",
    "    return tf\n",
    "\n",
    "transform_edges = []\n",
    "\n",
    "\n",
    "def parse_merge_name(tf_path):\n",
    "    tf_name = tf_path.name\n",
    "\n",
    "    suffix=\".txt\"\n",
    "    if tf_name.endswith(suffix):\n",
    "        tf_name = tf_name[:-len(suffix)]\n",
    "\n",
    "    s =  tf_name.split(\"__\")[1:]\n",
    "    if len(s) == 2:\n",
    "        name1, name2 = s\n",
    "    \n",
    "    elif len(s) == 4:\n",
    "        # vid1, p1, vid2, p2 = s\n",
    "        name1 = \"__\".join(s[:2])\n",
    "        name2 = \"__\".join(s[2:])\n",
    "\n",
    "    elif len(s) == 5:\n",
    "        if \"model\" in s[2]:\n",
    "            #vid1, p1, m1, vid2, p2 = s\n",
    "            name1 = \"__\".join(s[:3])\n",
    "            name2 = \"__\".join(s[3:])\n",
    "        elif \"model\" in s[-1]:\n",
    "            #vid1, p1, vid2, p2, m2 = s\n",
    "            name1 = \"__\".join(s[:2])\n",
    "            name2 = \"__\".join(s[2:])\n",
    "    else:\n",
    "        return None\n",
    "    return (name1, name2), load_transform(tf_path)\n",
    "\n",
    "transform_edges = [parse_merge_name(tf_name) for tf_name in model_transforms]\n",
    "transform_edges = [te for te in transform_edges if te is not None]\n",
    "transform_edges\n",
    "\n"
   ]
  },
  {
   "cell_type": "code",
   "execution_count": 18,
   "metadata": {},
   "outputs": [
    {
     "data": {
      "image/png": "[encoded data removed]",
      "text/plain": [
       "<Figure size 432x288 with 1 Axes>"
      ]
     },
     "metadata": {},
     "output_type": "display_data"
    }
   ],
   "source": [
    "G = nx.DiGraph()\n",
    "for name, folder in zip(model_names, model_folders):\n",
    "    G.add_node(name, model=folder)\n",
    "\n",
    "for (tf_u, tf_v), tf in transform_edges:\n",
    "    G.add_edge(tf_u, tf_v, transform=tf)\n",
    "\n",
    "#G.add_nodes_from(model_names)\n",
    "#G.add_edges_from(transform_edges, tf=\"trans\")\n",
    "\n",
    "nx.draw(G)\n"
   ]
  },
  {
   "cell_type": "code",
   "execution_count": 19,
   "metadata": {},
   "outputs": [],
   "source": [
    "def rand_color():\n",
    "        return f'rgba({np.random.randint(0,256)},{np.random.randint(42,98)},{np.random.randint(40,90)},0.2)'\n",
    "\n",
    "\n",
    "# Set this to the first node in the chain!\n",
    "base_node = '2obsKLoZQdU__part15'\n",
    "\n",
    "fig = viz_3d.init_figure()\n",
    "b = pycolmap.Reconstruction(models / G.nodes[base_node][\"model\"])\n",
    "viz_3d.plot_reconstruction(fig, b, color=rand_color(), name=base_node, points=False, cs=0.2)\n",
    "b.export_PLY(outputs/ f\"{base_node}.ply\")\n",
    "for parent, child, _ in nx.edge_bfs(G, base_node, orientation='original'):\n",
    "    \n",
    "    m = pycolmap.Reconstruction(models / G.nodes[child][\"model\"])\n",
    "    m.transform(G[parent][child]['transform'])\n",
    "    \n",
    "    for reverse_parent, reverse_child, _ in nx.edge_bfs(G, parent, orientation='reverse'):\n",
    "\n",
    "            m.transform(G[reverse_parent][reverse_child]['transform'])\n",
    "\n",
    "    viz_3d.plot_reconstruction(fig, m, color=rand_color(), name=child, points=False, cs=0.2)\n",
    "    m.export_PLY(outputs/ f\"{child}.ply\")"
   ]
  },
  {
   "cell_type": "code",
   "execution_count": 20,
   "metadata": {},
   "outputs": [],
   "source": [
    "fig.show()"
   ]
  }
 ],
 "metadata": {
  "interpreter": {
   "hash": "3f098ba95d01785235f3d68e9969077998f779b193b795b88c72932ec1265e23"
  },
  "kernelspec": {
   "display_name": "Python 3.7.12 ('base')",
   "language": "python",
   "name": "python3"
  },
  "language_info": {
   "codemirror_mode": {
    "name": "ipython",
    "version": 3
   },
   "file_extension": ".py",
   "mimetype": "text/x-python",
   "name": "python",
   "nbconvert_exporter": "python",
   "pygments_lexer": "ipython3",
   "version": "3.7.12"
  },
  "orig_nbformat": 4
 },
 "nbformat": 4,
 "nbformat_minor": 2
}
