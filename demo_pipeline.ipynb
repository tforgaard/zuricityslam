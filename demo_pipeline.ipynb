{
 "cells": [
  {
   "cell_type": "code",
   "execution_count": 1,
   "metadata": {},
   "outputs": [
    {
     "name": "stderr",
     "output_type": "stream",
     "text": [
      "/usr/local/anaconda3/envs/cityslam2/lib/python3.7/site-packages/tqdm/auto.py:22: TqdmWarning: IProgress not found. Please update jupyter and ipywidgets. See https://ipywidgets.readthedocs.io/en/stable/user_install.html\n",
      "  from .autonotebook import tqdm as notebook_tqdm\n"
     ]
    }
   ],
   "source": [
    "import os\n",
    "import networkx as nx\n",
    "from pathlib import Path\n",
    "from natsort import natsorted\n",
    "\n",
    "from cityslam.videointerface import videointerface, downloader\n",
    "from cityslam.preprocessing import preprocessing, transitions, create_img_list\n",
    "from cityslam.mapping import reconstruction as recon\n",
    "from cityslam.localization import merge\n",
    "from cityslam.utils import visualization\n",
    "from cityslam.utils.parsers import find_models\n",
    "from cityslam.graph.utils import find_graphs, get_graphs, draw_super, draw_graphs, transform_models, get_tf_filter_view\n",
    "\n",
    "# setup necessary paths\n",
    "base_dir = Path('./demo')\n",
    "\n",
    "videos_path = base_dir / 'datasets' / 'videos'\n",
    "images_path = base_dir / 'datasets' / 'images'\n",
    "queries_path = base_dir / 'datasets' / 'queries'\n",
    "output_models_path = base_dir / 'outputs' / 'models'\n",
    "output_transitions = base_dir / 'outputs' / 'transitions'\n",
    "output_transitions_cropped = base_dir / 'outputs' / 'transitions_cropped'\n",
    "image_list_path = base_dir / 'outputs' / 'image_list'\n",
    "output_merge = base_dir / 'outputs' / 'merge'\n",
    "output_graph = base_dir / 'outputs' / 'graph'\n",
    "\n",
    "overwrite = False\n",
    "video_ids = ['gTHMvU3XHBk', 'TZIHy1cZJ-U']\n",
    "fps = 2"
   ]
  },
  {
   "cell_type": "code",
   "execution_count": 3,
   "metadata": {},
   "outputs": [
    {
     "name": "stdout",
     "output_type": "stream",
     "text": [
      "[youtube] gTHMvU3XHBk: Downloading webpage\n",
      "[youtube] gTHMvU3XHBk: Downloading android player API JSON\n",
      "[youtube] gTHMvU3XHBk: Downloading MPD manifest\n",
      "[youtube] gTHMvU3XHBk: Downloading MPD manifest\n",
      "[info] gTHMvU3XHBk: Downloading 1 format(s): 248\n",
      "[download] demo/datasets/videos/Test Walk 1 Zürich [gTHMvU3XHBk].webm has already been downloaded\n",
      "[download] 100% of 5.53MiB\n",
      "[youtube] TZIHy1cZJ-U: Downloading webpage\n",
      "[youtube] TZIHy1cZJ-U: Downloading android player API JSON\n",
      "[info] TZIHy1cZJ-U: Downloading 1 format(s): 313\n",
      "[download] demo/datasets/videos/test walk 2 Zürich [TZIHy1cZJ-U].webm has already been downloaded\n",
      "[download] 100% of 76.67MiB\n"
     ]
    }
   ],
   "source": [
    "downloader.main(videos_path, video_ids, format=\"bv\", overwrite=overwrite)"
   ]
  },
  {
   "cell_type": "code",
   "execution_count": 4,
   "metadata": {},
   "outputs": [
    {
     "name": "stderr",
     "output_type": "stream",
     "text": [
      "[2022/06/12 11:42:03 cityslam INFO] extracting frames from video: Test Walk 1 Zürich [gTHMvU3XHBk].webm using fps: 2\n",
      "[2022/06/12 11:42:03 cityslam INFO] extracting frames from video: test walk 2 Zürich [TZIHy1cZJ-U].webm using fps: 2\n",
      "[2022/06/12 11:42:03 cityslam INFO] frames already extracted for video: Test Walk 1 Zürich [gTHMvU3XHBk].webm\n",
      "[2022/06/12 11:42:03 cityslam INFO] frames already extracted for video: test walk 2 Zürich [TZIHy1cZJ-U].webm\n"
     ]
    }
   ],
   "source": [
    "\n",
    "image_folders = preprocessing.main(\n",
    "    videos_path, images_path, video_ids, overwrite=overwrite, fps=fps)"
   ]
  },
  {
   "cell_type": "code",
   "execution_count": 5,
   "metadata": {},
   "outputs": [
    {
     "name": "stdout",
     "output_type": "stream",
     "text": [
      "using device cpu\n",
      "Already found transitions for video Test Walk 1 Zürich [gTHMvU3XHBk]\n",
      "video fps: 29.793\n",
      "Already found transitions for video test walk 2 Zürich [TZIHy1cZJ-U]\n",
      "video fps: 30.0\n"
     ]
    }
   ],
   "source": [
    "path_to_weights = Path('./cityslam/preprocessing')\n",
    "\n",
    "transitions.main(\n",
    "    videos_path, video_ids, path_to_weights, output_transitions, output_transitions_cropped, 5*60, 10, fps, 0.5, overwrite_cuts=True)\n"
   ]
  },
  {
   "cell_type": "code",
   "execution_count": 6,
   "metadata": {},
   "outputs": [
    {
     "name": "stdout",
     "output_type": "stream",
     "text": [
      "demo/outputs/transitions_cropped/TZIHy1cZJ-U_transitions_cropped.txt\n",
      "0 82\n",
      "demo/outputs/transitions_cropped/gTHMvU3XHBk_transitions_cropped.txt\n",
      "0 41\n"
     ]
    }
   ],
   "source": [
    "create_img_list.create_img_list(output_transitions_cropped, images_path, image_list_path)\n"
   ]
  },
  {
   "cell_type": "code",
   "execution_count": 12,
   "metadata": {},
   "outputs": [
    {
     "name": "stdout",
     "output_type": "stream",
     "text": [
      "Total scenes: 2\n",
      "Scenes left: 0\n"
     ]
    }
   ],
   "source": [
    "# Find all scenes\n",
    "scene_ids = [str(p.relative_to(image_list_path)).split(\"_images\")[0] for p in natsorted(list(image_list_path.glob(\"**/*_images.txt\")))]\n",
    "print(f\"Total scenes: {len(scene_ids)}\")\n",
    "\n",
    "# Filter out the ones that are already done\n",
    "scene_ids = [scene_id for scene_id in scene_ids if next((output_models_path / scene_id).glob(\"**/images.bin\"), None) is None]\n",
    "print(f\"Scenes left: {len(scene_ids)}\")\n",
    "\n",
    "# Run single video pipeline\n",
    "for scene_id in scene_ids:\n",
    "    scene_image_list_path = Path(image_list_path) / f\"{scene_id}_images.txt\"\n",
    "\n",
    "    reconstruction = recon.main(\n",
    "        images_path, scene_image_list_path, output_models_path, video_id=scene_id, window_size=6, num_loc=6, pairing='sequential+retrieval', run_reconstruction=True, overwrite=False)\n"
   ]
  },
  {
   "cell_type": "code",
   "execution_count": 4,
   "metadata": {},
   "outputs": [
    {
     "name": "stdout",
     "output_type": "stream",
     "text": [
      "2\n",
      "['gTHMvU3XHBk__part00', 'TZIHy1cZJ-U__part00']\n"
     ]
    },
    {
     "data": {
      "image/png": "[encoded data removed]",
      "text/plain": [
       "<Figure size 432x288 with 1 Axes>"
      ]
     },
     "metadata": {
      "needs_background": "light"
     },
     "output_type": "display_data"
    }
   ],
   "source": [
    "# merge\n",
    "\n",
    "merge.main(output_models_path, output_merge)\n",
    "\n",
    "output_graph.mkdir(exist_ok=True, parents=True)\n",
    "\n",
    "model_folders = find_models(output_models_path)\n",
    "\n",
    "# Super graph containing all nodes and all found transformations\n",
    "super_graph = find_graphs(output_models_path, output_merge)\n",
    "\n",
    "# Split super graph up into a list of connected graphs\n",
    "maps = get_graphs(super_graph)\n",
    "\n",
    "print(len(super_graph.nodes))\n",
    "print(super_graph.nodes)\n",
    "\n",
    "draw_super(get_tf_filter_view(super_graph), output_models_path)\n",
    "\n",
    "draw_graphs(maps)\n",
    "\n",
    "transform_models(output_models_path, output_graph, get_tf_filter_view(maps[0]), visualize=False, save=True)"
   ]
  }
 ],
 "metadata": {
  "interpreter": {
   "hash": "16727f4abdf2278609180bc7c1c015e479f682f229ea145bf35028a0098b4bd4"
  },
  "kernelspec": {
   "display_name": "Python 3.7.13 ('cityslam2')",
   "language": "python",
   "name": "python3"
  },
  "language_info": {
   "codemirror_mode": {
    "name": "ipython",
    "version": 3
   },
   "file_extension": ".py",
   "mimetype": "text/x-python",
   "name": "python",
   "nbconvert_exporter": "python",
   "pygments_lexer": "ipython3",
   "version": "3.7.13"
  }
 },
 "nbformat": 4,
 "nbformat_minor": 2
}
