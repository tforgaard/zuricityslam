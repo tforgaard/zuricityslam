{
 "cells": [
  {
   "cell_type": "code",
   "execution_count": null,
   "metadata": {},
   "outputs": [],
   "source": [
    "from pathlib import Path\n",
    "import os\n",
    "\n",
    "from cityslam.videointerface import videointerface, downloader\n",
    "from cityslam.preprocessing import preprocessing, transitions, create_img_list\n",
    "from cityslam.mapping import single_video_pipeline\n",
    "from cityslam.utils import visualization\n",
    "from natsort import natsorted\n",
    "\n",
    "# setup necessary paths\n",
    "base_dir = Path('./demo')\n",
    "\n",
    "videos_path = base_dir / 'datasets' / 'videos'\n",
    "images_path = base_dir / 'datasets' / 'images'\n",
    "queries_path = base_dir / 'datasets' / 'queries'\n",
    "output_path = base_dir / 'outputs' / 'models'\n",
    "output_transitions = base_dir / 'outputs' / 'transitions'\n",
    "output_transitions_cropped = base_dir / 'outputs' / 'transitions_cropped'\n",
    "image_list_path = base_dir / 'outputs' / 'image_list'\n",
    "\n",
    "overwrite = False\n",
    "video_ids = ['gTHMvU3XHBk', 'TZIHy1cZJ-U']\n",
    "fps = 2"
   ]
  },
  {
   "cell_type": "code",
   "execution_count": null,
   "metadata": {},
   "outputs": [],
   "source": [
    "# Download videos\n",
    "downloader.main(videos_path, video_ids, format=\"bv\", overwrite=overwrite)"
   ]
  },
  {
   "cell_type": "code",
   "execution_count": null,
   "metadata": {},
   "outputs": [],
   "source": [
    "\n",
    "image_folders = preprocessing.main(\n",
    "    videos_path, images_path, video_ids, overwrite=overwrite, fps=fps)"
   ]
  },
  {
   "cell_type": "code",
   "execution_count": null,
   "metadata": {},
   "outputs": [],
   "source": [
    "path_to_weights = Path('./cityslam/preprocessing')\n",
    "\n",
    "transitions.main(\n",
    "    videos_path, video_ids, path_to_weights, output_transitions, output_transitions_cropped, 5*60, 10, fps, 0.5, overwrite_cuts=True)\n"
   ]
  },
  {
   "cell_type": "code",
   "execution_count": null,
   "metadata": {},
   "outputs": [],
   "source": [
    "create_img_list.create_img_list(output_transitions_cropped, images_path, image_list_path)\n"
   ]
  },
  {
   "cell_type": "code",
   "execution_count": null,
   "metadata": {},
   "outputs": [],
   "source": [
    "# Find all scenes\n",
    "scene_ids = [str(p.relative_to(image_list_path)).split(\"_images\")[0] for p in natsorted(list(image_list_path.glob(\"**/*_images.txt\")))]\n",
    "print(f\"Total scenes: {len(scene_ids)}\")\n",
    "\n",
    "# Filter out the ones that are already done\n",
    "scene_ids = [scene_id for scene_id in scene_ids if next((output_path / scene_id).glob(\"**/database.db\"), None) is None]\n",
    "print(f\"Scenes left: {len(scene_ids)}\")\n",
    "\n",
    "for scene_id in scene_ids:\n",
    "\n",
    "    image_list_path = Path(image_list_path) / f\"{scene_id}_images.txt\"\n",
    "\n",
    "    reconstruction = single_video_pipeline.main(\n",
    "        images_path, image_list_path, output_path, video_id=scene_id, window_size=6, num_loc=6, pairing='sequential+retrieval', run_reconstruction=False, overwrite=False)\n"
   ]
  }
 ],
 "metadata": {
  "interpreter": {
   "hash": "53ea73b804937fb6c658f89efc00fe64f25fe05d9129c2fb505225685fb04d8f"
  },
  "kernelspec": {
   "display_name": "Python 3.7.12 ('base')",
   "language": "python",
   "name": "python3"
  },
  "language_info": {
   "codemirror_mode": {
    "name": "ipython",
    "version": 3
   },
   "file_extension": ".py",
   "mimetype": "text/x-python",
   "name": "python",
   "nbconvert_exporter": "python",
   "pygments_lexer": "ipython3",
   "version": "3.7.12"
  }
 },
 "nbformat": 4,
 "nbformat_minor": 2
}
