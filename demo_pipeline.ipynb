{
 "cells": [
  {
   "cell_type": "code",
   "execution_count": 1,
   "metadata": {},
   "outputs": [
    {
     "name": "stderr",
     "output_type": "stream",
     "text": [
      "/usr/local/anaconda3/envs/cityslam2/lib/python3.7/site-packages/tqdm/auto.py:22: TqdmWarning: IProgress not found. Please update jupyter and ipywidgets. See https://ipywidgets.readthedocs.io/en/stable/user_install.html\n",
      "  from .autonotebook import tqdm as notebook_tqdm\n"
     ]
    }
   ],
   "source": [
    "from pathlib import Path\n",
    "import os\n",
    "\n",
    "from cityslam.videointerface import videointerface, downloader\n",
    "from cityslam.preprocessing import preprocessing, transitions, create_img_list\n",
    "from cityslam.mapping import single_video_pipeline\n",
    "from cityslam.utils import visualization\n",
    "from natsort import natsorted\n",
    "\n",
    "# setup necessary paths\n",
    "base_dir = Path('./demo')\n",
    "\n",
    "videos_path = base_dir / 'datasets' / 'videos'\n",
    "images_path = base_dir / 'datasets' / 'images'\n",
    "queries_path = base_dir / 'datasets' / 'queries'\n",
    "output_path = base_dir / 'outputs' / 'models'\n",
    "output_transitions = base_dir / 'outputs' / 'transitions'\n",
    "output_transitions_cropped = base_dir / 'outputs' / 'transitions_cropped'\n",
    "image_list_path = base_dir / 'outputs' / 'image_list'\n",
    "\n",
    "overwrite = False\n",
    "video_ids = ['gTHMvU3XHBk', 'TZIHy1cZJ-U']\n",
    "fps = 2"
   ]
  },
  {
   "cell_type": "code",
   "execution_count": null,
   "metadata": {},
   "outputs": [],
   "source": [
    "# Download videos\n",
    "downloader.main(videos_path, video_ids, format=\"bv\", overwrite=overwrite)"
   ]
  },
  {
   "cell_type": "code",
   "execution_count": null,
   "metadata": {},
   "outputs": [],
   "source": [
    "\n",
    "image_folders = preprocessing.main(\n",
    "    videos_path, images_path, video_ids, overwrite=overwrite, fps=fps)"
   ]
  },
  {
   "cell_type": "code",
   "execution_count": null,
   "metadata": {},
   "outputs": [],
   "source": [
    "path_to_weights = Path('./cityslam/preprocessing')\n",
    "\n",
    "transitions.main(\n",
    "    videos_path, video_ids, path_to_weights, output_transitions, output_transitions_cropped, 5*60, 10, fps, 0.5, overwrite_cuts=True)\n"
   ]
  },
  {
   "cell_type": "code",
   "execution_count": null,
   "metadata": {},
   "outputs": [],
   "source": [
    "create_img_list.create_img_list(output_transitions_cropped, images_path, image_list_path)\n"
   ]
  },
  {
   "cell_type": "code",
   "execution_count": 2,
   "metadata": {},
   "outputs": [
    {
     "name": "stderr",
     "output_type": "stream",
     "text": [
      "[2022/06/10 13:53:15 hloc.utils.parsers INFO] Imported 41 images from part00_images.txt\n",
      "[2022/06/10 13:53:15 hloc INFO] Extracting local features with configuration:\n",
      "{'model': {'name': 'netvlad'},\n",
      " 'output': 'global-feats-netvlad',\n",
      " 'preprocessing': {'resize_max': 1024}}\n",
      "[2022/06/10 13:53:15 hloc INFO] Skipping the extraction.\n",
      "[2022/06/10 13:53:15 hloc INFO] Extracting image pairs from a retrieval database.\n"
     ]
    },
    {
     "name": "stdout",
     "output_type": "stream",
     "text": [
      "Total scenes: 2\n",
      "Scenes left: 1\n",
      "getting images...\n",
      "num images : 41\n"
     ]
    },
    {
     "name": "stderr",
     "output_type": "stream",
     "text": [
      "[2022/06/10 13:53:15 hloc INFO] Found 54 pairs.\n",
      "[2022/06/10 13:53:15 hloc INFO] Found 346 pairs.\n",
      "[2022/06/10 13:53:15 hloc INFO] Extracting local features with configuration:\n",
      "{'model': {'max_keypoints': 4096, 'name': 'superpoint', 'nms_radius': 3},\n",
      " 'output': 'feats-superpoint-n4096-r1024',\n",
      " 'preprocessing': {'grayscale': True, 'resize_max': 1024}}\n",
      "[2022/06/10 13:53:15 hloc INFO] Skipping the extraction.\n",
      "[2022/06/10 13:53:15 hloc INFO] Matching local features with configuration:\n",
      "{'model': {'name': 'superglue',\n",
      "           'sinkhorn_iterations': 50,\n",
      "           'weights': 'outdoor'},\n",
      " 'output': 'matches-superglue'}\n",
      "[2022/06/10 13:53:15 hloc INFO] Skipping the matching.\n",
      "[2022/06/10 13:53:15 hloc INFO] Creating an empty database...\n",
      "[2022/06/10 13:53:15 hloc INFO] Importing images into the database...\n",
      "[2022/06/10 13:53:16 hloc INFO] Importing features into the database...\n",
      "100%|██████████| 41/41 [00:00<00:00, 713.17it/s]\n",
      "[2022/06/10 13:53:16 hloc INFO] Importing matches into the database...\n",
      "100%|██████████| 346/346 [00:00<00:00, 518.74it/s]\n",
      "[2022/06/10 13:53:17 hloc INFO] Performing geometric verification of the matches...\n",
      "[2022/06/10 13:53:21 hloc INFO] Running 3D reconstruction...\n",
      "[2022/06/10 13:53:54 hloc INFO] Reconstructed 1 model(s).\n",
      "[2022/06/10 13:53:54 hloc INFO] Largest model is #0 with 37 images.\n",
      "[2022/06/10 13:53:54 hloc INFO] Reconstruction statistics:\n",
      "Reconstruction:\n",
      "\tnum_reg_images = 37\n",
      "\tnum_cameras = 1\n",
      "\tnum_points3D = 5565\n",
      "\tnum_observations = 32918\n",
      "\tmean_track_length = 5.91518\n",
      "\tmean_observations_per_image = 889.676\n",
      "\tmean_reprojection_error = 1.3768\n",
      "\tnum_input_images = 41\n"
     ]
    }
   ],
   "source": [
    "# Find all scenes\n",
    "scene_ids = [str(p.relative_to(image_list_path)).split(\"_images\")[0] for p in natsorted(list(image_list_path.glob(\"**/*_images.txt\")))]\n",
    "print(f\"Total scenes: {len(scene_ids)}\")\n",
    "\n",
    "# Filter out the ones that are already done\n",
    "#scene_ids = [scene_id for scene_id in scene_ids if next((output_path / scene_id).glob(\"**/database.db\"), None) is None]\n",
    "scene_ids = [scene_id for scene_id in scene_ids if next((output_path / scene_id).glob(\"**/images.bin\"), None) is None]\n",
    "print(f\"Scenes left: {len(scene_ids)}\")\n",
    "\n",
    "# Run single video pipeline\n",
    "for scene_id in scene_ids:\n",
    "\n",
    "    scene_image_list_path = Path(image_list_path) / f\"{scene_id}_images.txt\"\n",
    "\n",
    "    reconstruction = single_video_pipeline.main(\n",
    "        images_path, scene_image_list_path, output_path, video_id=scene_id, window_size=6, num_loc=6, pairing='sequential+retrieval', run_reconstruction=True, overwrite=False)\n"
   ]
  },
  {
   "cell_type": "code",
   "execution_count": null,
   "metadata": {},
   "outputs": [],
   "source": [
    "\"\"\"\n",
    "* run find_model_pairs for the two videos\n",
    "* run score_pipeline\n",
    "* run graph-pipeline\n",
    "\"\"\""
   ]
  }
 ],
 "metadata": {
  "interpreter": {
   "hash": "16727f4abdf2278609180bc7c1c015e479f682f229ea145bf35028a0098b4bd4"
  },
  "kernelspec": {
   "display_name": "Python 3.7.13 ('cityslam2')",
   "language": "python",
   "name": "python3"
  },
  "language_info": {
   "codemirror_mode": {
    "name": "ipython",
    "version": 3
   },
   "file_extension": ".py",
   "mimetype": "text/x-python",
   "name": "python",
   "nbconvert_exporter": "python",
   "pygments_lexer": "ipython3",
   "version": "3.7.13"
  }
 },
 "nbformat": 4,
 "nbformat_minor": 2
}
